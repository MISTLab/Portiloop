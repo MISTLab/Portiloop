{
 "cells": [
  {
   "cell_type": "code",
   "execution_count": 3,
   "metadata": {
    "ExecuteTime": {
     "end_time": "2020-11-20T03:38:24.235012Z",
     "start_time": "2020-11-20T03:38:24.149302Z"
    }
   },
   "outputs": [
    {
     "ename": "OSError",
     "evalue": "Bitstream file /home/xilinx/pynq/overlays/portiloop/portiloop_2filter.bit does not exist.",
     "output_type": "error",
     "traceback": [
      "\u001b[0;31m---------------------------------------------------------------------------\u001b[0m",
      "\u001b[0;31mOSError\u001b[0m                                   Traceback (most recent call last)",
      "\u001b[0;32m<ipython-input-3-0db622fe7c2c>\u001b[0m in \u001b[0;36m<module>\u001b[0;34m()\u001b[0m\n\u001b[1;32m      1\u001b[0m \u001b[0;32mfrom\u001b[0m \u001b[0mpynq\u001b[0m \u001b[0;32mimport\u001b[0m \u001b[0mOverlay\u001b[0m\u001b[0;34m\u001b[0m\u001b[0m\n\u001b[0;32m----> 2\u001b[0;31m \u001b[0mol\u001b[0m \u001b[0;34m=\u001b[0m \u001b[0mOverlay\u001b[0m\u001b[0;34m(\u001b[0m\u001b[0;34m\"/home/xilinx/pynq/overlays/portiloop/portiloop_2filter.bit\"\u001b[0m\u001b[0;34m)\u001b[0m\u001b[0;34m\u001b[0m\u001b[0m\n\u001b[0m",
      "\u001b[0;32m/usr/local/lib/python3.6/dist-packages/pynq/overlay.py\u001b[0m in \u001b[0;36m__init__\u001b[0;34m(self, bitfile_name, dtbo, download, ignore_version, device)\u001b[0m\n\u001b[1;32m    307\u001b[0m \u001b[0;34m\u001b[0m\u001b[0m\n\u001b[1;32m    308\u001b[0m         \"\"\"\n\u001b[0;32m--> 309\u001b[0;31m         \u001b[0msuper\u001b[0m\u001b[0;34m(\u001b[0m\u001b[0;34m)\u001b[0m\u001b[0;34m.\u001b[0m\u001b[0m__init__\u001b[0m\u001b[0;34m(\u001b[0m\u001b[0mbitfile_name\u001b[0m\u001b[0;34m,\u001b[0m \u001b[0mdtbo\u001b[0m\u001b[0;34m,\u001b[0m \u001b[0mpartial\u001b[0m\u001b[0;34m=\u001b[0m\u001b[0;32mFalse\u001b[0m\u001b[0;34m,\u001b[0m \u001b[0mdevice\u001b[0m\u001b[0;34m=\u001b[0m\u001b[0mdevice\u001b[0m\u001b[0;34m)\u001b[0m\u001b[0;34m\u001b[0m\u001b[0m\n\u001b[0m\u001b[1;32m    310\u001b[0m \u001b[0;34m\u001b[0m\u001b[0m\n\u001b[1;32m    311\u001b[0m         \u001b[0mself\u001b[0m\u001b[0;34m.\u001b[0m\u001b[0mparser\u001b[0m \u001b[0;34m=\u001b[0m \u001b[0mself\u001b[0m\u001b[0;34m.\u001b[0m\u001b[0mdevice\u001b[0m\u001b[0;34m.\u001b[0m\u001b[0mget_bitfile_metadata\u001b[0m\u001b[0;34m(\u001b[0m\u001b[0mself\u001b[0m\u001b[0;34m.\u001b[0m\u001b[0mbitfile_name\u001b[0m\u001b[0;34m)\u001b[0m\u001b[0;34m\u001b[0m\u001b[0m\n",
      "\u001b[0;32m/usr/local/lib/python3.6/dist-packages/pynq/bitstream.py\u001b[0m in \u001b[0;36m__init__\u001b[0;34m(self, bitfile_name, dtbo, partial, device)\u001b[0m\n\u001b[1;32m    105\u001b[0m         \u001b[0;32melse\u001b[0m\u001b[0;34m:\u001b[0m\u001b[0;34m\u001b[0m\u001b[0m\n\u001b[1;32m    106\u001b[0m             raise IOError('Bitstream file {} does not exist.'.format(\n\u001b[0;32m--> 107\u001b[0;31m                 bitfile_name))\n\u001b[0m\u001b[1;32m    108\u001b[0m \u001b[0;34m\u001b[0m\u001b[0m\n\u001b[1;32m    109\u001b[0m         \u001b[0mself\u001b[0m\u001b[0;34m.\u001b[0m\u001b[0mdtbo\u001b[0m \u001b[0;34m=\u001b[0m \u001b[0mdtbo\u001b[0m\u001b[0;34m\u001b[0m\u001b[0m\n",
      "\u001b[0;31mOSError\u001b[0m: Bitstream file /home/xilinx/pynq/overlays/portiloop/portiloop_2filter.bit does not exist."
     ]
    }
   ],
   "source": [
    "from pynq import Overlay\n",
    "ol = Overlay(\"/home/xilinx/pynq/overlays/portiloop/portiloop_2filter.bit\")"
   ]
  },
  {
   "cell_type": "code",
   "execution_count": 2,
   "metadata": {
    "ExecuteTime": {
     "end_time": "2020-11-20T03:38:18.018246Z",
     "start_time": "2020-11-20T03:38:16.651132Z"
    }
   },
   "outputs": [
    {
     "ename": "AttributeError",
     "evalue": "Could not find IP or hierarchy filter_12_16_0 in overlay",
     "output_type": "error",
     "traceback": [
      "\u001b[0;31m---------------------------------------------------------------------------\u001b[0m",
      "\u001b[0;31mAttributeError\u001b[0m                            Traceback (most recent call last)",
      "\u001b[0;32m<ipython-input-2-eb2ac5ff27fd>\u001b[0m in \u001b[0;36m<module>\u001b[0;34m()\u001b[0m\n\u001b[1;32m      1\u001b[0m \u001b[0;32mfrom\u001b[0m \u001b[0mpynq\u001b[0m\u001b[0;34m.\u001b[0m\u001b[0mlib\u001b[0m\u001b[0;34m.\u001b[0m\u001b[0marduino\u001b[0m \u001b[0;32mimport\u001b[0m \u001b[0mArduino_TI_ADC\u001b[0m\u001b[0;34m\u001b[0m\u001b[0m\n\u001b[0;32m----> 2\u001b[0;31m \u001b[0madc\u001b[0m \u001b[0;34m=\u001b[0m \u001b[0mArduino_TI_ADC\u001b[0m\u001b[0;34m(\u001b[0m\u001b[0mol\u001b[0m\u001b[0;34m,\u001b[0m \u001b[0;34m\"05112020\"\u001b[0m\u001b[0;34m,\u001b[0m\u001b[0mnb_eeg\u001b[0m \u001b[0;34m=\u001b[0m \u001b[0;36m1\u001b[0m\u001b[0;34m,\u001b[0m \u001b[0mnb_ecg\u001b[0m\u001b[0;34m=\u001b[0m\u001b[0;36m0\u001b[0m\u001b[0;34m,\u001b[0m \u001b[0mthreshold_value\u001b[0m\u001b[0;34m=\u001b[0m\u001b[0;36m0.00011\u001b[0m\u001b[0;34m,\u001b[0m \u001b[0mnb_buffer\u001b[0m \u001b[0;34m=\u001b[0m \u001b[0;36m2\u001b[0m\u001b[0;34m)\u001b[0m\u001b[0;34m\u001b[0m\u001b[0m\n\u001b[0m",
      "\u001b[0;32m/usr/local/lib/python3.6/dist-packages/pynq/lib/arduino/arduino_ti_adc.py\u001b[0m in \u001b[0;36m__init__\u001b[0;34m(self, ol, filename, nb_eeg, nb_ecg, threshold_value, nb_buffer)\u001b[0m\n\u001b[1;32m     24\u001b[0m         \u001b[0mself\u001b[0m\u001b[0;34m.\u001b[0m\u001b[0mnb_ecg\u001b[0m \u001b[0;34m=\u001b[0m \u001b[0mnb_ecg\u001b[0m\u001b[0;34m\u001b[0m\u001b[0m\n\u001b[1;32m     25\u001b[0m         \u001b[0mself\u001b[0m\u001b[0;34m.\u001b[0m\u001b[0mfilename\u001b[0m \u001b[0;34m=\u001b[0m \u001b[0mfilename\u001b[0m\u001b[0;34m\u001b[0m\u001b[0m\n\u001b[0;32m---> 26\u001b[0;31m         \u001b[0mself\u001b[0m\u001b[0;34m.\u001b[0m\u001b[0mdma_12_16\u001b[0m \u001b[0;34m=\u001b[0m \u001b[0;34m[\u001b[0m\u001b[0mol\u001b[0m\u001b[0;34m.\u001b[0m\u001b[0mfilter_12_16_0\u001b[0m\u001b[0;34m.\u001b[0m\u001b[0maxi_dma\u001b[0m\u001b[0;34m,\u001b[0m \u001b[0mol\u001b[0m\u001b[0;34m.\u001b[0m\u001b[0mfilter_12_16_1\u001b[0m\u001b[0;34m.\u001b[0m\u001b[0maxi_dma\u001b[0m\u001b[0;34m]\u001b[0m\u001b[0;34m\u001b[0m\u001b[0m\n\u001b[0m\u001b[1;32m     27\u001b[0m         \u001b[0mself\u001b[0m\u001b[0;34m.\u001b[0m\u001b[0mdma_05_35\u001b[0m \u001b[0;34m=\u001b[0m \u001b[0;34m[\u001b[0m\u001b[0mol\u001b[0m\u001b[0;34m.\u001b[0m\u001b[0mfilter_05_35_0\u001b[0m\u001b[0;34m.\u001b[0m\u001b[0maxi_dma\u001b[0m\u001b[0;34m]\u001b[0m\u001b[0;34m\u001b[0m\u001b[0m\n\u001b[1;32m     28\u001b[0m         \u001b[0mself\u001b[0m\u001b[0;34m.\u001b[0m\u001b[0mthreshold\u001b[0m \u001b[0;34m=\u001b[0m \u001b[0mthreshold_value\u001b[0m\u001b[0;34m\u001b[0m\u001b[0m\n",
      "\u001b[0;32m/usr/local/lib/python3.6/dist-packages/pynq/overlay.py\u001b[0m in \u001b[0;36m__getattr__\u001b[0;34m(self, key)\u001b[0m\n\u001b[1;32m    335\u001b[0m         \"\"\"\n\u001b[1;32m    336\u001b[0m         \u001b[0;32mif\u001b[0m \u001b[0mself\u001b[0m\u001b[0;34m.\u001b[0m\u001b[0mis_loaded\u001b[0m\u001b[0;34m(\u001b[0m\u001b[0;34m)\u001b[0m\u001b[0;34m:\u001b[0m\u001b[0;34m\u001b[0m\u001b[0m\n\u001b[0;32m--> 337\u001b[0;31m             \u001b[0;32mreturn\u001b[0m \u001b[0mgetattr\u001b[0m\u001b[0;34m(\u001b[0m\u001b[0mself\u001b[0m\u001b[0;34m.\u001b[0m\u001b[0m_ip_map\u001b[0m\u001b[0;34m,\u001b[0m \u001b[0mkey\u001b[0m\u001b[0;34m)\u001b[0m\u001b[0;34m\u001b[0m\u001b[0m\n\u001b[0m\u001b[1;32m    338\u001b[0m         \u001b[0;32melse\u001b[0m\u001b[0;34m:\u001b[0m\u001b[0;34m\u001b[0m\u001b[0m\n\u001b[1;32m    339\u001b[0m             \u001b[0;32mraise\u001b[0m \u001b[0mRuntimeError\u001b[0m\u001b[0;34m(\u001b[0m\u001b[0;34m\"Overlay not currently loaded\"\u001b[0m\u001b[0;34m)\u001b[0m\u001b[0;34m\u001b[0m\u001b[0m\n",
      "\u001b[0;32m/usr/local/lib/python3.6/dist-packages/pynq/overlay.py\u001b[0m in \u001b[0;36m__getattr__\u001b[0;34m(self, key)\u001b[0m\n\u001b[1;32m    756\u001b[0m         \u001b[0;32melse\u001b[0m\u001b[0;34m:\u001b[0m\u001b[0;34m\u001b[0m\u001b[0m\n\u001b[1;32m    757\u001b[0m             raise AttributeError(\n\u001b[0;32m--> 758\u001b[0;31m                 \"Could not find IP or hierarchy {} in overlay\".format(key))\n\u001b[0m\u001b[1;32m    759\u001b[0m \u001b[0;34m\u001b[0m\u001b[0m\n\u001b[1;32m    760\u001b[0m     \u001b[0;32mdef\u001b[0m \u001b[0m_keys\u001b[0m\u001b[0;34m(\u001b[0m\u001b[0mself\u001b[0m\u001b[0;34m)\u001b[0m\u001b[0;34m:\u001b[0m\u001b[0;34m\u001b[0m\u001b[0m\n",
      "\u001b[0;31mAttributeError\u001b[0m: Could not find IP or hierarchy filter_12_16_0 in overlay"
     ]
    }
   ],
   "source": [
    "from pynq.lib.arduino import Arduino_TI_ADC\n",
    "adc = Arduino_TI_ADC(ol, \"05112020\",nb_eeg = 1, nb_ecg=0, threshold_value=0.00011, nb_buffer = 2)"
   ]
  },
  {
   "cell_type": "code",
   "execution_count": null,
   "metadata": {
    "ExecuteTime": {
     "start_time": "2021-03-04T16:38:23.563Z"
    }
   },
   "outputs": [
    {
     "name": "stdout",
     "output_type": "stream",
     "text": [
      "Episode  0\n",
      "t mean 0.0039954142570495605\n",
      "tmax 0.012219667434692383\n"
     ]
    }
   ],
   "source": [
    "adc.acquire_data(length_buff_ms = 40, length_buffer_minutes = 1, nb_cycles = 5)"
   ]
  },
  {
   "cell_type": "code",
   "execution_count": 1,
   "metadata": {
    "ExecuteTime": {
     "end_time": "2020-11-20T11:18:03.580129Z",
     "start_time": "2020-11-20T11:17:56.627469Z"
    }
   },
   "outputs": [
    {
     "data": {
      "application/javascript": [
       "\n",
       "require(['notebook/js/codecell'], function(codecell) {\n",
       "  codecell.CodeCell.options_default.highlight_modes[\n",
       "      'magic_text/x-csrc'] = {'reg':[/^%%microblaze/]};\n",
       "  Jupyter.notebook.events.one('kernel_ready.Kernel', function(){\n",
       "      Jupyter.notebook.get_cells().map(function(cell){\n",
       "          if (cell.cell_type == 'code'){ cell.auto_highlight(); } }) ;\n",
       "  });\n",
       "});\n"
      ]
     },
     "metadata": {},
     "output_type": "display_data"
    }
   ],
   "source": [
    "from pynq import Overlay\n",
    "ol = Overlay(\"/home/xilinx/pynq/overlays/portiloop/portiloop_mb_control.bit\")"
   ]
  },
  {
   "cell_type": "code",
   "execution_count": 2,
   "metadata": {
    "ExecuteTime": {
     "end_time": "2020-11-20T11:18:04.129436Z",
     "start_time": "2020-11-20T11:18:03.594311Z"
    }
   },
   "outputs": [],
   "source": [
    "from pynq.lib.arduino import Arduino_TI_ADC_mb_control\n",
    "adc = Arduino_TI_ADC_mb_control(ol, \"03032021\",nb_eeg = 1, nb_ecg=0, threshold_value=0.00011, nb_buffer = 2, filter_12_16=0, filter_05_35=1)"
   ]
  },
  {
   "cell_type": "code",
   "execution_count": 3,
   "metadata": {
    "ExecuteTime": {
     "end_time": "2020-11-20T11:18:04.282029Z",
     "start_time": "2020-11-20T11:18:04.143155Z"
    }
   },
   "outputs": [
    {
     "name": "stdout",
     "output_type": "stream",
     "text": [
      "8388607.0\n"
     ]
    },
    {
     "data": {
      "text/plain": [
       "'0x7fffff'"
      ]
     },
     "execution_count": 3,
     "metadata": {},
     "output_type": "execute_result"
    }
   ],
   "source": [
    "val = 0.1875/((4.5/24)/(2**23-1))\n",
    "print(val)\n",
    "hex(8388607)"
   ]
  },
  {
   "cell_type": "markdown",
   "metadata": {},
   "source": [
    "résultat à obtenir (sinon redémarrer la carte):\n",
    "0x3e\n",
    "0x95\n",
    "0xc0\n",
    "0xe0\n",
    "0x0\n",
    "0x60\n",
    "0x60\n",
    "0x60\n",
    "0x60\n",
    "0x60\n",
    "0x60\n",
    "0x60\n",
    "0xe0\n",
    "0x0\n",
    "0x0\n",
    "0xff\n",
    "0xff\n",
    "0x0\n",
    "0x0\n",
    "0x0\n",
    "0x0\n",
    "0x20\n",
    "0x0\n",
    "0x0\n",
    "0x0\n",
    "0x0"
   ]
  },
  {
   "cell_type": "code",
   "execution_count": 4,
   "metadata": {
    "ExecuteTime": {
     "end_time": "2020-11-20T11:18:04.350867Z",
     "start_time": "2020-11-20T11:18:04.296202Z"
    }
   },
   "outputs": [
    {
     "name": "stdout",
     "output_type": "stream",
     "text": [
      "0x3e\n",
      "0x95\n",
      "0xc0\n",
      "0xe0\n",
      "0x0\n",
      "0x60\n",
      "0x60\n",
      "0x60\n",
      "0x60\n",
      "0x60\n",
      "0x60\n",
      "0x60\n",
      "0xe0\n",
      "0x0\n",
      "0x0\n",
      "0xff\n",
      "0xff\n",
      "0x0\n",
      "0x0\n",
      "0x0\n",
      "0x0\n",
      "0x20\n",
      "0x0\n",
      "0x0\n",
      "0x0\n",
      "0x0\n"
     ]
    }
   ],
   "source": [
    "r = adc.read_register()\n",
    "for i in r:\n",
    "    print(hex(i))"
   ]
  },
  {
   "cell_type": "code",
   "execution_count": null,
   "metadata": {
    "ExecuteTime": {
     "end_time": "2020-06-05T18:19:57.494479Z",
     "start_time": "2020-06-05T18:19:57.385197Z"
    }
   },
   "outputs": [],
   "source": [
    "ol.filter_12_16.axi_dma"
   ]
  },
  {
   "cell_type": "code",
   "execution_count": null,
   "metadata": {
    "ExecuteTime": {
     "end_time": "2020-06-04T17:05:55.664918Z",
     "start_time": "2020-06-04T17:05:55.649901Z"
    }
   },
   "outputs": [],
   "source": [
    "x&=0x800000"
   ]
  },
  {
   "cell_type": "code",
   "execution_count": null,
   "metadata": {
    "ExecuteTime": {
     "end_time": "2020-06-04T19:19:30.353594Z",
     "start_time": "2020-06-04T19:19:30.293197Z"
    }
   },
   "outputs": [],
   "source": [
    "hex(x)"
   ]
  },
  {
   "cell_type": "code",
   "execution_count": null,
   "metadata": {
    "ExecuteTime": {
     "end_time": "2020-06-04T19:19:15.925423Z",
     "start_time": "2020-06-04T19:19:15.896345Z"
    }
   },
   "outputs": [],
   "source": [
    "n = [0, 0, 0, 0, 0, 0, 0, 0, 0, 0, 0, 0, 0, 0, 0, 0, 0, 0, 0, 0, 0, 0, 0, 0, 0, 0, 0, 0, 0, 0, 0, 0, 0, 0, 0, 0, 0, 0, 0, 0, 0, 0, 0, 0, 0, 0, 0, 0, 0, 0]"
   ]
  },
  {
   "cell_type": "code",
   "execution_count": null,
   "metadata": {
    "ExecuteTime": {
     "end_time": "2020-06-04T19:21:30.431494Z",
     "start_time": "2020-06-04T19:21:30.300270Z"
    }
   },
   "outputs": [],
   "source": [
    "n*(4.5/24)/(2**23-1) #perte de précision?"
   ]
  },
  {
   "cell_type": "code",
   "execution_count": null,
   "metadata": {
    "ExecuteTime": {
     "end_time": "2020-06-04T19:19:17.683602Z",
     "start_time": "2020-06-04T19:19:17.664727Z"
    }
   },
   "outputs": [],
   "source": [
    "import numpy as np"
   ]
  },
  {
   "cell_type": "code",
   "execution_count": null,
   "metadata": {
    "ExecuteTime": {
     "end_time": "2020-06-04T19:19:19.023355Z",
     "start_time": "2020-06-04T19:19:19.006987Z"
    }
   },
   "outputs": [],
   "source": [
    "n = np.array(n)"
   ]
  },
  {
   "cell_type": "code",
   "execution_count": null,
   "metadata": {
    "ExecuteTime": {
     "end_time": "2020-06-04T19:19:27.152644Z",
     "start_time": "2020-06-04T19:19:27.034748Z"
    }
   },
   "outputs": [],
   "source": [
    "np.append(n, 1)"
   ]
  },
  {
   "cell_type": "code",
   "execution_count": null,
   "metadata": {
    "ExecuteTime": {
     "end_time": "2020-06-04T19:19:41.014770Z",
     "start_time": "2020-06-04T19:19:40.983462Z"
    }
   },
   "outputs": [],
   "source": [
    "n"
   ]
  }
 ],
 "metadata": {
  "kernelspec": {
   "display_name": "Python 3",
   "language": "python",
   "name": "python3"
  },
  "language_info": {
   "codemirror_mode": {
    "name": "ipython",
    "version": 3
   },
   "file_extension": ".py",
   "mimetype": "text/x-python",
   "name": "python",
   "nbconvert_exporter": "python",
   "pygments_lexer": "ipython3",
   "version": "3.6.5"
  }
 },
 "nbformat": 4,
 "nbformat_minor": 2
}
